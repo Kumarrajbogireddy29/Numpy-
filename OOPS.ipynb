{
 "cells": [
  {
   "cell_type": "code",
   "execution_count": null,
   "id": "09eda442-2224-4b76-8e4c-b811b55fb76e",
   "metadata": {},
   "outputs": [],
   "source": [
    "#oops\n",
    "oop stands for object oriented programming"
   ]
  },
  {
   "cell_type": "code",
   "execution_count": null,
   "id": "7cb630c7-3d50-4018-a838-dc68767aff61",
   "metadata": {},
   "outputs": [],
   "source": [
    "python allows you to structure your code , using classes and objects for better \n",
    "organiztion and reusability "
   ]
  },
  {
   "cell_type": "code",
   "execution_count": null,
   "id": "e88e9074-8549-4064-b10e-77a542835814",
   "metadata": {},
   "outputs": [],
   "source": [
    "#advantages \n",
    "provides a clear structure \n",
    "make code easier to maintain ,reuse and debug \n",
    "helps your code DRY (dont repeat yourself)\n",
    "allows you to build reusable applications with less code"
   ]
  },
  {
   "cell_type": "code",
   "execution_count": null,
   "id": "664e5c9e-ad84-47cb-8ab2-7ab4df3b1c9b",
   "metadata": {},
   "outputs": [],
   "source": [
    "what are the classes and objects?"
   ]
  },
  {
   "cell_type": "code",
   "execution_count": null,
   "id": "567ea30e-02ec-470a-90bb-cfcba08534b0",
   "metadata": {},
   "outputs": [],
   "source": [
    "classes and objects are the two concepts in oops"
   ]
  },
  {
   "cell_type": "code",
   "execution_count": null,
   "id": "d3203e26-87ec-400b-9452-a2d66396f5e3",
   "metadata": {},
   "outputs": [],
   "source": [
    "classes---> fruits\n",
    "car--->apple,banana,toyato"
   ]
  },
  {
   "cell_type": "code",
   "execution_count": null,
   "id": "366c9ed3-ead2-4896-96e3-68fb024e2ba4",
   "metadata": {},
   "outputs": [],
   "source": []
  }
 ],
 "metadata": {
  "kernelspec": {
   "display_name": "Python 3 (ipykernel)",
   "language": "python",
   "name": "python3"
  },
  "language_info": {
   "codemirror_mode": {
    "name": "ipython",
    "version": 3
   },
   "file_extension": ".py",
   "mimetype": "text/x-python",
   "name": "python",
   "nbconvert_exporter": "python",
   "pygments_lexer": "ipython3",
   "version": "3.12.7"
  }
 },
 "nbformat": 4,
 "nbformat_minor": 5
}
