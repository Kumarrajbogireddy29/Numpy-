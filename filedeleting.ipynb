{
 "cells": [
  {
   "cell_type": "code",
   "execution_count": null,
   "id": "33e7bf61-396b-42a0-a661-42fcc9ba4df4",
   "metadata": {},
   "outputs": [],
   "source": [
    "#delete a file"
   ]
  },
  {
   "cell_type": "raw",
   "id": "bcaebe22-eed9-4c6f-9b93-12e626962f51",
   "metadata": {},
   "source": [
    "to delete a file you must import the os module,amd run it os.remove() function"
   ]
  },
  {
   "cell_type": "code",
   "execution_count": null,
   "id": "58e95b97-f3fc-4a30-8bd7-578fe66b47ed",
   "metadata": {},
   "outputs": [],
   "source": [
    "import os\n",
    "os.remove(\"demofile.txt\")"
   ]
  },
  {
   "cell_type": "code",
   "execution_count": null,
   "id": "8597703f-a636-41e7-9724-5c3cf836a4f8",
   "metadata": {},
   "outputs": [],
   "source": [
    "#check if the file exists"
   ]
  },
  {
   "cell_type": "code",
   "execution_count": null,
   "id": "6cdcfaf4-2e1e-4b26-90b2-af523fd740f3",
   "metadata": {},
   "outputs": [],
   "source": [
    "to avoid getting a error you might want to check \n",
    "if the file exists before you try to delete it:"
   ]
  },
  {
   "cell_type": "code",
   "execution_count": null,
   "id": "074dd367-a8bc-4c14-a79c-b85b269ede52",
   "metadata": {},
   "outputs": [],
   "source": [
    "import os\n",
    "if os.path.exists(\"demofile.txt\"):\n",
    "    os.remove(\"demofile.txt\")\n",
    "else:\n",
    "    print(\"The file does not exist\")"
   ]
  },
  {
   "cell_type": "code",
   "execution_count": 1,
   "id": "5f6a9a95-2d77-41e1-a7a0-19cce92f6b7b",
   "metadata": {},
   "outputs": [
    {
     "ename": "FileNotFoundError",
     "evalue": "[WinError 2] The system cannot find the file specified: 'myfolder'",
     "output_type": "error",
     "traceback": [
      "\u001b[1;31m---------------------------------------------------------------------------\u001b[0m",
      "\u001b[1;31mFileNotFoundError\u001b[0m                         Traceback (most recent call last)",
      "Cell \u001b[1;32mIn[1], line 3\u001b[0m\n\u001b[0;32m      1\u001b[0m \u001b[38;5;66;03m#delete folder\u001b[39;00m\n\u001b[0;32m      2\u001b[0m \u001b[38;5;28;01mimport\u001b[39;00m \u001b[38;5;21;01mos\u001b[39;00m \n\u001b[1;32m----> 3\u001b[0m os\u001b[38;5;241m.\u001b[39mrmdir(\u001b[38;5;124m\"\u001b[39m\u001b[38;5;124mmyfolder\u001b[39m\u001b[38;5;124m\"\u001b[39m)\n",
      "\u001b[1;31mFileNotFoundError\u001b[0m: [WinError 2] The system cannot find the file specified: 'myfolder'"
     ]
    }
   ],
   "source": [
    "#delete folder\n",
    "import os \n",
    "os.rmdir(\"myfolder\")"
   ]
  },
  {
   "cell_type": "code",
   "execution_count": null,
   "id": "3da1d624-5a68-4daf-afb4-daae94c13a5d",
   "metadata": {},
   "outputs": [],
   "source": []
  }
 ],
 "metadata": {
  "kernelspec": {
   "display_name": "Python 3 (ipykernel)",
   "language": "python",
   "name": "python3"
  },
  "language_info": {
   "codemirror_mode": {
    "name": "ipython",
    "version": 3
   },
   "file_extension": ".py",
   "mimetype": "text/x-python",
   "name": "python",
   "nbconvert_exporter": "python",
   "pygments_lexer": "ipython3",
   "version": "3.12.7"
  }
 },
 "nbformat": 4,
 "nbformat_minor": 5
}
