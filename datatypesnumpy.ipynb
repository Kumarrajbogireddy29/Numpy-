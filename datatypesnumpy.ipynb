{
 "cells": [
  {
   "cell_type": "code",
   "execution_count": 1,
   "id": "6a57aa9e-9c1b-4cf1-b919-588730b60d02",
   "metadata": {},
   "outputs": [],
   "source": [
    "#Numpy DataTypes\n",
    "#Strings:used to represent the text data,teh text data given under quote marks \"ABDC\"\n",
    "#integer: used to represnt the interger numbers:eg:-1,-2,-3\n",
    "#float:used  to represent the real numbers eg:1.2,42.42\n",
    "#boolean:used to represent the True or False\n",
    "#complex:1.0+2.0j"
   ]
  },
  {
   "cell_type": "code",
   "execution_count": null,
   "id": "010dc91d-4079-45a8-acfb-42ac4a9b01c4",
   "metadata": {},
   "outputs": [],
   "source": [
    "/* I-integers\n",
    "b-boolean \n",
    "u-unsigned\n",
    "f-float\n",
    "c-complex\n",
    "m-timedelta\n",
    "M-datetime\n",
    "O-object\n",
    "S-string\n",
    "U-unicode string\n",
    "V-Fixed chunk of memory for other type\n",
    "*/"
   ]
  },
  {
   "cell_type": "code",
   "execution_count": 2,
   "id": "9bc5ddd4-e41e-4960-9a69-27298158d21b",
   "metadata": {},
   "outputs": [
    {
     "name": "stdout",
     "output_type": "stream",
     "text": [
      "int32\n"
     ]
    }
   ],
   "source": [
    "#checking the datatype of the array\n",
    "import numpy as np\n",
    "arr=np.array([1,2,3,4])\n",
    "print(arr.dtype)"
   ]
  },
  {
   "cell_type": "code",
   "execution_count": 3,
   "id": "5e43e5ff-19f2-48bc-a5e8-26d976b70bf2",
   "metadata": {},
   "outputs": [
    {
     "name": "stdout",
     "output_type": "stream",
     "text": [
      "<U9\n"
     ]
    }
   ],
   "source": [
    "import numpy as np\n",
    "arr=np.array([\"Kumar\",\"Raju\",\"Bogireddy\"])\n",
    "print(arr.dtype)"
   ]
  },
  {
   "cell_type": "code",
   "execution_count": null,
   "id": "64c9debb-8824-440d-b431-54e00733a4fa",
   "metadata": {},
   "outputs": [],
   "source": [
    "#creating the arrays with a defined datatype"
   ]
  },
  {
   "cell_type": "code",
   "execution_count": null,
   "id": "c53e5538-07a3-4539-b780-d6fa9728184e",
   "metadata": {},
   "outputs": [],
   "source": [
    "we use the array function() to create the arrays ans takes an optional argument: dtype that allows \n",
    "you to define the excepted datatype of the array elements"
   ]
  },
  {
   "cell_type": "code",
   "execution_count": 4,
   "id": "5c38e6b0-6e5c-40ba-a196-7768b3e2279e",
   "metadata": {},
   "outputs": [
    {
     "name": "stdout",
     "output_type": "stream",
     "text": [
      "[1 2 3 4]\n",
      "int32\n"
     ]
    }
   ],
   "source": [
    "import numpy as np\n",
    "arr = np.array([1,2,3,4])\n",
    "print(arr)\n",
    "print(arr.dtype)"
   ]
  },
  {
   "cell_type": "code",
   "execution_count": null,
   "id": "51e68652-bd16-4899-9a9a-fa6ccf9f2da3",
   "metadata": {},
   "outputs": [],
   "source": [
    "#for i ,u ,f,s and U we can define the size as well"
   ]
  },
  {
   "cell_type": "code",
   "execution_count": 6,
   "id": "4718a880-8f47-4e74-9fb4-018447ab9bf1",
   "metadata": {},
   "outputs": [
    {
     "name": "stdout",
     "output_type": "stream",
     "text": [
      "[1 2 3 4]\n",
      "int32\n"
     ]
    }
   ],
   "source": [
    "import numpy as np\n",
    "arr=np.array([1,2,3,4],dtype='i4')\n",
    "print(arr)\n",
    "print(arr.dtype)"
   ]
  },
  {
   "cell_type": "code",
   "execution_count": null,
   "id": "2e863899-8aeb-408c-aa53-8d6173f463a8",
   "metadata": {},
   "outputs": [],
   "source": [
    "# what if value cannot be converted\n",
    "the it raises the valueError"
   ]
  },
  {
   "cell_type": "code",
   "execution_count": 7,
   "id": "f004a1a9-482b-419a-bfa2-83f688a26f36",
   "metadata": {},
   "outputs": [
    {
     "ename": "ValueError",
     "evalue": "invalid literal for int() with base 10: 'a'",
     "output_type": "error",
     "traceback": [
      "\u001b[1;31m---------------------------------------------------------------------------\u001b[0m",
      "\u001b[1;31mValueError\u001b[0m                                Traceback (most recent call last)",
      "Cell \u001b[1;32mIn[7], line 3\u001b[0m\n\u001b[0;32m      1\u001b[0m \u001b[38;5;28;01mimport\u001b[39;00m \u001b[38;5;21;01mnumpy\u001b[39;00m \u001b[38;5;28;01mas\u001b[39;00m \u001b[38;5;21;01mnp\u001b[39;00m\n\u001b[1;32m----> 3\u001b[0m arr \u001b[38;5;241m=\u001b[39m np\u001b[38;5;241m.\u001b[39marray([\u001b[38;5;124m'\u001b[39m\u001b[38;5;124ma\u001b[39m\u001b[38;5;124m'\u001b[39m, \u001b[38;5;124m'\u001b[39m\u001b[38;5;124m2\u001b[39m\u001b[38;5;124m'\u001b[39m, \u001b[38;5;124m'\u001b[39m\u001b[38;5;124m3\u001b[39m\u001b[38;5;124m'\u001b[39m], dtype\u001b[38;5;241m=\u001b[39m\u001b[38;5;124m'\u001b[39m\u001b[38;5;124mi\u001b[39m\u001b[38;5;124m'\u001b[39m)\n",
      "\u001b[1;31mValueError\u001b[0m: invalid literal for int() with base 10: 'a'"
     ]
    }
   ],
   "source": [
    "import numpy as np\n",
    "\n",
    "arr = np.array(['a', '2', '3'], dtype='i')\n"
   ]
  },
  {
   "cell_type": "code",
   "execution_count": null,
   "id": "14061f0d-14c0-4d7c-867c-3e225960f148",
   "metadata": {},
   "outputs": [],
   "source": [
    "#error  "
   ]
  },
  {
   "cell_type": "code",
   "execution_count": null,
   "id": "842f2e33-adc9-41c9-90a1-9aa9992b4098",
   "metadata": {},
   "outputs": [],
   "source": [
    "#converting the data type from float to integer by using the i as parameter value"
   ]
  },
  {
   "cell_type": "code",
   "execution_count": 9,
   "id": "89c159d1-0d63-4c1d-9153-6eddf520f199",
   "metadata": {},
   "outputs": [
    {
     "name": "stdout",
     "output_type": "stream",
     "text": [
      "[1 2 3]\n",
      "int32\n"
     ]
    }
   ],
   "source": [
    "import numpy as np \n",
    "arr = np.array([1.1,2.1,3.1])\n",
    "newarr = arr.astype('i')\n",
    "print(newarr)\n",
    "print(newarr.dtype)"
   ]
  },
  {
   "cell_type": "code",
   "execution_count": 10,
   "id": "3c04b352-4230-4e2f-8770-c836f443017b",
   "metadata": {},
   "outputs": [
    {
     "name": "stdout",
     "output_type": "stream",
     "text": [
      "[1 2 3]\n",
      "int32\n"
     ]
    }
   ],
   "source": [
    "import numpy as np\n",
    "\n",
    "arr = np.array([1.1, 2.1, 3.1])\n",
    "\n",
    "newarr = arr.astype(int)\n",
    "\n",
    "print(newarr)\n",
    "print(newarr.dtype)\n"
   ]
  },
  {
   "cell_type": "code",
   "execution_count": 12,
   "id": "eba1f1c3-7594-49d2-91ff-a7aaf7f87f73",
   "metadata": {},
   "outputs": [
    {
     "name": "stdout",
     "output_type": "stream",
     "text": [
      "[ True False  True]\n",
      "bool\n"
     ]
    }
   ],
   "source": [
    "import numpy as np\n",
    "\n",
    "arr = np.array([1, 0, 3])\n",
    "\n",
    "newarr = arr.astype(bool)\n",
    "\n",
    "print(newarr)\n",
    "print(newarr.dtype)\n",
    "      "
   ]
  },
  {
   "cell_type": "code",
   "execution_count": null,
   "id": "4845387e-d771-41ee-9ae0-0b7ff4b0adf9",
   "metadata": {},
   "outputs": [],
   "source": [
    "# copy and view in the array \n",
    "copy is the copy of the existing the array\n",
    "view is the view of the array"
   ]
  },
  {
   "cell_type": "code",
   "execution_count": 13,
   "id": "07f821c4-a37d-4708-9a52-4a5cabbc8c4c",
   "metadata": {},
   "outputs": [
    {
     "name": "stdout",
     "output_type": "stream",
     "text": [
      "[42  2  3  4  5]\n",
      "[1 2 3 4 5]\n"
     ]
    }
   ],
   "source": [
    "#Copy example\n",
    "import numpy as np\n",
    "\n",
    "arr = np.array([1, 2, 3, 4, 5])\n",
    "x = arr.copy()\n",
    "arr[0] = 42\n",
    "\n",
    "print(arr)\n",
    "print(x)\n",
    "\n",
    "#changes do not effect"
   ]
  },
  {
   "cell_type": "code",
   "execution_count": 14,
   "id": "33b34a73-97a1-40b1-a881-d98b4cff0237",
   "metadata": {},
   "outputs": [
    {
     "name": "stdout",
     "output_type": "stream",
     "text": [
      "[23  2  3  4  5]\n",
      "[23  2  3  4  5]\n"
     ]
    }
   ],
   "source": [
    "#view of the array\n",
    "import numpy as np\n",
    "arr=np.array([1,2,3,4,5])\n",
    "x=arr.view()\n",
    "arr[0]=23\n",
    "print(x)\n",
    "print(arr)\n",
    "\n",
    "#changes will effect\n"
   ]
  },
  {
   "cell_type": "code",
   "execution_count": 15,
   "id": "0d8b69ea-fd61-4135-a044-dda68c76aa78",
   "metadata": {},
   "outputs": [
    {
     "name": "stdout",
     "output_type": "stream",
     "text": [
      "None\n",
      "[1 2 3 4 5]\n"
     ]
    }
   ],
   "source": [
    "import numpy as np\n",
    "\n",
    "arr = np.array([1, 2, 3, 4, 5])\n",
    "\n",
    "x = arr.copy()\n",
    "y = arr.view()\n",
    "\n",
    "print(x.base)\n",
    "print(y.base)\n",
    "\n",
    "\n",
    "copy returns none \n",
    "view returns the orginal array"
   ]
  },
  {
   "cell_type": "code",
   "execution_count": null,
   "id": "8fde65db-8e5d-46e2-856b-c75afdf3005f",
   "metadata": {},
   "outputs": [],
   "source": [
    "#shape of the array\n",
    "represents the number of elements in the each dimension"
   ]
  },
  {
   "cell_type": "code",
   "execution_count": null,
   "id": "e3d59677-d430-4b6c-a851-8fa379f9bb5d",
   "metadata": {},
   "outputs": [],
   "source": [
    "To get the shape we give the attribute called shape that returns the a tuple with\n",
    "the each index having the no of the corresponding elements"
   ]
  },
  {
   "cell_type": "code",
   "execution_count": 16,
   "id": "9c044636-27d5-45de-a25a-292c5f46a845",
   "metadata": {},
   "outputs": [
    {
     "name": "stdout",
     "output_type": "stream",
     "text": [
      "(2, 5)\n"
     ]
    }
   ],
   "source": [
    "import numpy as np\n",
    "arr =np.array([[1,2,3,4,5],[1,2,3,4,5]])\n",
    "print(arr.shape)"
   ]
  },
  {
   "cell_type": "code",
   "execution_count": null,
   "id": "16d5b19c-84b4-4798-b988-245daab00c23",
   "metadata": {},
   "outputs": [],
   "source": []
  }
 ],
 "metadata": {
  "kernelspec": {
   "display_name": "Python 3 (ipykernel)",
   "language": "python",
   "name": "python3"
  },
  "language_info": {
   "codemirror_mode": {
    "name": "ipython",
    "version": 3
   },
   "file_extension": ".py",
   "mimetype": "text/x-python",
   "name": "python",
   "nbconvert_exporter": "python",
   "pygments_lexer": "ipython3",
   "version": "3.12.7"
  }
 },
 "nbformat": 4,
 "nbformat_minor": 5
}
