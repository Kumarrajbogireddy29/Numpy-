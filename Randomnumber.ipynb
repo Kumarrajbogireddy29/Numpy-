{
 "cells": [
  {
   "cell_type": "code",
   "execution_count": null,
   "id": "b748ff7a-1cc8-4aa1-94cd-84812c4a0173",
   "metadata": {},
   "outputs": [],
   "source": [
    "#Random Number \n",
    "random number does not mean  a different number every time \n",
    "random means something that can not be predicted logically\n"
   ]
  },
  {
   "cell_type": "code",
   "execution_count": null,
   "id": "6762695d-2381-4915-ad37-27f5187d8616",
   "metadata": {},
   "outputs": [],
   "source": [
    "pseudo Random and True Random\n"
   ]
  },
  {
   "cell_type": "code",
   "execution_count": null,
   "id": "ada8d123-e347-45c4-b5ac-87d2e49e6c41",
   "metadata": {},
   "outputs": [],
   "source": [
    "generate a random number \n"
   ]
  },
  {
   "cell_type": "code",
   "execution_count": null,
   "id": "ba62a36d-3bbc-49d3-8a4f-7419ee9dc89f",
   "metadata": {},
   "outputs": [],
   "source": [
    "#generate random number\n",
    "numpy offers the random module to work with random number"
   ]
  },
  {
   "cell_type": "code",
   "execution_count": 3,
   "id": "f82a866c-7d1d-4d7a-a54c-7cf6c00dfa54",
   "metadata": {},
   "outputs": [
    {
     "name": "stdout",
     "output_type": "stream",
     "text": [
      "16\n"
     ]
    }
   ],
   "source": [
    "from numpy import random\n",
    "x = random.randint(100)\n",
    "print(x)"
   ]
  },
  {
   "cell_type": "code",
   "execution_count": null,
   "id": "128016c4-75bb-4691-a185-b1233da16f2b",
   "metadata": {},
   "outputs": [],
   "source": [
    "#for float values  givesin between 0 and 1"
   ]
  },
  {
   "cell_type": "code",
   "execution_count": 4,
   "id": "41e14c01-dba6-4d71-936b-840070bb63b6",
   "metadata": {},
   "outputs": [
    {
     "name": "stdout",
     "output_type": "stream",
     "text": [
      "0.15899294315945867\n"
     ]
    }
   ],
   "source": [
    "from numpy import random\n",
    "x = random.rand()\n",
    "print(x)"
   ]
  },
  {
   "cell_type": "code",
   "execution_count": null,
   "id": "8a7495a8-fe0e-4d4a-b732-b33def23b290",
   "metadata": {},
   "outputs": [],
   "source": [
    "#randint we have to specify the size of the array"
   ]
  },
  {
   "cell_type": "code",
   "execution_count": 6,
   "id": "be15e438-3f96-4725-9f06-4507f3e88350",
   "metadata": {},
   "outputs": [
    {
     "name": "stdout",
     "output_type": "stream",
     "text": [
      "[65 81 87  7 12]\n"
     ]
    }
   ],
   "source": [
    "from numpy import random\n",
    "x=random.randint(100,size=(5))\n",
    "print(x)"
   ]
  },
  {
   "cell_type": "code",
   "execution_count": 7,
   "id": "39fc58a4-97a1-48b9-801d-d9ca5e3266b1",
   "metadata": {},
   "outputs": [
    {
     "name": "stdout",
     "output_type": "stream",
     "text": [
      "[[ 5  9  9 81 92]\n",
      " [35 49 22 56 52]\n",
      " [ 0 29 74  4 38]]\n"
     ]
    }
   ],
   "source": [
    "from numpy import random\n",
    "x=random.randint(100,size=(3,5))\n",
    "print(x)"
   ]
  },
  {
   "cell_type": "code",
   "execution_count": null,
   "id": "d1ebf696-f2c6-4c43-a29e-3a34330279aa",
   "metadata": {},
   "outputs": [],
   "source": [
    "#choice usd to generate a random value from the array"
   ]
  },
  {
   "cell_type": "markdown",
   "id": "b72b1440-5eb8-4ea4-9818-75a3a709bd7c",
   "metadata": {},
   "source": [
    "from numpy import random\n",
    "x=random.choice([3,5,6,7,8])\n",
    "print(x)"
   ]
  },
  {
   "cell_type": "code",
   "execution_count": 9,
   "id": "e0265509-5e22-4f12-925a-74a2b8d66a13",
   "metadata": {},
   "outputs": [
    {
     "name": "stdout",
     "output_type": "stream",
     "text": [
      "3\n"
     ]
    }
   ],
   "source": [
    "from numpy import random \n",
    "x=random.choice([3,5,6,7,8])\n",
    "print(x)"
   ]
  },
  {
   "cell_type": "code",
   "execution_count": 11,
   "id": "1cc5095b-3684-4a3d-981c-28598a0439cb",
   "metadata": {},
   "outputs": [
    {
     "name": "stdout",
     "output_type": "stream",
     "text": [
      "[[9 5 5 4 4]\n",
      " [4 3 5 5 5]\n",
      " [3 3 3 5 9]]\n"
     ]
    }
   ],
   "source": [
    "#add size to specify the shape of the array\n",
    "from numpy import random \n",
    "x=random.choice([3,4,5,6,9],size=(3,5))\n",
    "print(x)"
   ]
  },
  {
   "cell_type": "code",
   "execution_count": null,
   "id": "0357dea9-1d99-4c56-a6bc-66f20fefe6ee",
   "metadata": {},
   "outputs": [],
   "source": []
  }
 ],
 "metadata": {
  "kernelspec": {
   "display_name": "Python 3 (ipykernel)",
   "language": "python",
   "name": "python3"
  },
  "language_info": {
   "codemirror_mode": {
    "name": "ipython",
    "version": 3
   },
   "file_extension": ".py",
   "mimetype": "text/x-python",
   "name": "python",
   "nbconvert_exporter": "python",
   "pygments_lexer": "ipython3",
   "version": "3.12.7"
  }
 },
 "nbformat": 4,
 "nbformat_minor": 5
}
