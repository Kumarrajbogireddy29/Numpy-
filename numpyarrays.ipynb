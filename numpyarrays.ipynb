{
 "cells": [
  {
   "cell_type": "code",
   "execution_count": null,
   "id": "eda4de23-8671-47ee-86dc-7bcdc27599b2",
   "metadata": {},
   "outputs": [],
   "source": [
    "#Array indexing is the same as accesssing the element\n",
    "#and by referring the index number\n",
    "#starts with the 0 it means first elemnt has the index 0 and second elemnt has the index 1"
   ]
  },
  {
   "cell_type": "code",
   "execution_count": 2,
   "id": "09595540-7240-4fba-9234-54d782de1d41",
   "metadata": {},
   "outputs": [
    {
     "name": "stdout",
     "output_type": "stream",
     "text": [
      "4\n",
      "3\n",
      "1\n"
     ]
    }
   ],
   "source": [
    "#example \n",
    "import numpy as np\n",
    "arr = np.array([1,2,3,4])\n",
    "print(arr[3])\n",
    "print(arr[2])\n",
    "print(arr[0])"
   ]
  },
  {
   "cell_type": "code",
   "execution_count": 6,
   "id": "d1834b25-5809-4a7c-9c1f-503499647070",
   "metadata": {},
   "outputs": [
    {
     "name": "stdout",
     "output_type": "stream",
     "text": [
      "[3 4 5 6 9]\n",
      "3\n",
      "10\n"
     ]
    }
   ],
   "source": [
    "#adding the elemnts after getting from the index \n",
    "import numpy as np\n",
    "arr = np.array([3,4,5,6,9])\n",
    "print(arr)\n",
    "print(arr[0])\n",
    "print(arr[1]+arr[3])"
   ]
  },
  {
   "cell_type": "code",
   "execution_count": 8,
   "id": "e398c252-860b-4835-ae82-4af5561b1ad9",
   "metadata": {},
   "outputs": [
    {
     "name": "stdout",
     "output_type": "stream",
     "text": [
      "[[1 2 3 4 5]\n",
      " [6 7 8 9 0]]\n",
      "2\n"
     ]
    }
   ],
   "source": [
    "#accessing the 2d-elemnts\n",
    "import numpy as np\n",
    "arr = np.array([[1,2,3,4,5],[6,7,8,9,0]])\n",
    "print(arr)\n",
    "print(arr[0,1])"
   ]
  },
  {
   "cell_type": "code",
   "execution_count": 10,
   "id": "04097c07-4ae8-4792-8726-2bddf9beb503",
   "metadata": {},
   "outputs": [
    {
     "name": "stdout",
     "output_type": "stream",
     "text": [
      "[[[ 1  2  3]\n",
      "  [ 4  5  6]]\n",
      "\n",
      " [[ 8  9 10]\n",
      "  [11 12 13]]]\n",
      "5\n"
     ]
    }
   ],
   "source": [
    "import numpy as np\n",
    "arr = np.array([[[1,2,3],[4,5,6]],[[8,9,10],[11,12,13]]])\n",
    "print(arr)\n",
    "print(arr[0,1,1])"
   ]
  },
  {
   "cell_type": "code",
   "execution_count": 12,
   "id": "2ad3102a-2c51-4338-b911-f62bb197202d",
   "metadata": {},
   "outputs": [
    {
     "name": "stdout",
     "output_type": "stream",
     "text": [
      "[[1 2 3 4]\n",
      " [5 6 7 8]]\n",
      "8\n"
     ]
    }
   ],
   "source": [
    "##negative indexing\n",
    "import numpy as np\n",
    "arr = np.array([[1,2,3,4],[5,6,7,8]])\n",
    "print(arr)\n",
    "print(arr[1,-1])"
   ]
  },
  {
   "cell_type": "code",
   "execution_count": null,
   "id": "1d11d441-4b4b-4165-a35a-7e907f4fd48a",
   "metadata": {},
   "outputs": [],
   "source": [
    "##Numpy array slicing"
   ]
  },
  {
   "cell_type": "code",
   "execution_count": null,
   "id": "15456c49-bad4-44d8-a169-83890f36beaf",
   "metadata": {},
   "outputs": [],
   "source": [
    "# it means taking elements from one index to another given index\n",
    "#we slice [start:end]\n",
    "#and also in [start:end:step]\n",
    "#we dont pass index 0 , end element , step -1\n"
   ]
  },
  {
   "cell_type": "code",
   "execution_count": 2,
   "id": "b8cf46de-7457-4421-8663-b3ded3c2b360",
   "metadata": {},
   "outputs": [
    {
     "name": "stdout",
     "output_type": "stream",
     "text": [
      "[1 2 3 4 5]\n"
     ]
    }
   ],
   "source": [
    "#example\n",
    "import numpy as np \n",
    "arr = np.array([1,2,3,4,5])\n",
    "print(arr[0:5])"
   ]
  },
  {
   "cell_type": "code",
   "execution_count": 3,
   "id": "d952aceb-732d-441e-bfc3-e7330f072c29",
   "metadata": {},
   "outputs": [
    {
     "name": "stdout",
     "output_type": "stream",
     "text": [
      "[3]\n"
     ]
    }
   ],
   "source": [
    "import numpy as np \n",
    "arr = np.array([1,2,3,4,5])\n",
    "print(arr[2:3])"
   ]
  },
  {
   "cell_type": "code",
   "execution_count": 4,
   "id": "bb5e51ca-10f1-40f2-b886-a033f4a5ceda",
   "metadata": {},
   "outputs": [
    {
     "name": "stdout",
     "output_type": "stream",
     "text": [
      "[1 2 3 4 5]\n"
     ]
    }
   ],
   "source": [
    "import numpy as np \n",
    "arr = np.array([1,2,3,4,5])\n",
    "print(arr[:5])"
   ]
  },
  {
   "cell_type": "code",
   "execution_count": null,
   "id": "389aed75-1610-4736-9423-2c2a3ea2ddbe",
   "metadata": {},
   "outputs": [],
   "source": [
    "# negative slicing"
   ]
  },
  {
   "cell_type": "code",
   "execution_count": 6,
   "id": "2b425787-0a0f-4f7a-b294-068ba99090c1",
   "metadata": {},
   "outputs": [
    {
     "name": "stdout",
     "output_type": "stream",
     "text": [
      "[3 4]\n"
     ]
    }
   ],
   "source": [
    "import numpy as np\n",
    "arr=np.array([1,2,3,4,5])\n",
    "print(arr[-3:-1])"
   ]
  },
  {
   "cell_type": "code",
   "execution_count": null,
   "id": "5fd81ac6-4510-4f90-90cd-10d7b6e90ce0",
   "metadata": {},
   "outputs": [],
   "source": [
    "#step of the slicing"
   ]
  },
  {
   "cell_type": "code",
   "execution_count": 8,
   "id": "55a55f25-476a-40de-8f9d-1654a78a7bb0",
   "metadata": {},
   "outputs": [
    {
     "name": "stdout",
     "output_type": "stream",
     "text": [
      "[2 4]\n"
     ]
    }
   ],
   "source": [
    "import numpy as np \n",
    "arr = np.array([1,2,3,4,5])\n",
    "print(arr[1:5:2])"
   ]
  },
  {
   "cell_type": "code",
   "execution_count": 9,
   "id": "38f65637-da48-4b96-8b41-74dec99e0896",
   "metadata": {},
   "outputs": [
    {
     "name": "stdout",
     "output_type": "stream",
     "text": [
      "[1 3 5]\n"
     ]
    }
   ],
   "source": [
    "import numpy as np\n",
    "arr = np.array([1,2,3,4,5])\n",
    "print(arr[::2])"
   ]
  },
  {
   "cell_type": "code",
   "execution_count": 11,
   "id": "b8abfa25-cf8c-4924-bff7-4707f85ca640",
   "metadata": {},
   "outputs": [
    {
     "name": "stdout",
     "output_type": "stream",
     "text": [
      "[7 8 9]\n"
     ]
    }
   ],
   "source": [
    "#slicing 2-d arrays\n",
    "import numpy as np \n",
    "arr = np.array([[1,2,3,4,5],[6,7,8,9,10]])\n",
    "print(arr[1,1:4])"
   ]
  },
  {
   "cell_type": "code",
   "execution_count": 12,
   "id": "dbc15c15-2c03-45c5-8c28-07dff83f2e51",
   "metadata": {},
   "outputs": [
    {
     "name": "stdout",
     "output_type": "stream",
     "text": [
      "[4 9]\n"
     ]
    }
   ],
   "source": [
    "import numpy as np \n",
    "arr = np.array([[1,2,3,4,5],[6,7,8,9,10]])\n",
    "print(arr[0:2,3])"
   ]
  },
  {
   "cell_type": "code",
   "execution_count": 13,
   "id": "790be69c-ac52-4217-9313-e46699c3cbdc",
   "metadata": {},
   "outputs": [
    {
     "name": "stdout",
     "output_type": "stream",
     "text": [
      "[[2 3 4]\n",
      " [7 8 9]]\n"
     ]
    }
   ],
   "source": [
    "import numpy as np\n",
    "\n",
    "arr = np.array([[1, 2, 3, 4, 5], [6, 7, 8, 9, 10]])\n",
    "\n",
    "print(arr[0:2, 1:4])"
   ]
  },
  {
   "cell_type": "code",
   "execution_count": null,
   "id": "acbb1660-9ee6-4876-9355-9fba3eb0701f",
   "metadata": {},
   "outputs": [],
   "source": []
  }
 ],
 "metadata": {
  "kernelspec": {
   "display_name": "Python 3 (ipykernel)",
   "language": "python",
   "name": "python3"
  },
  "language_info": {
   "codemirror_mode": {
    "name": "ipython",
    "version": 3
   },
   "file_extension": ".py",
   "mimetype": "text/x-python",
   "name": "python",
   "nbconvert_exporter": "python",
   "pygments_lexer": "ipython3",
   "version": "3.12.7"
  }
 },
 "nbformat": 4,
 "nbformat_minor": 5
}
