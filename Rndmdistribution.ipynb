{
 "cells": [
  {
   "cell_type": "code",
   "execution_count": null,
   "id": "08c8f679-96ef-48b3-8935-10d968d44412",
   "metadata": {},
   "outputs": [],
   "source": [
    "#Data Distribution\n",
    "data distribution is a list of all possibe values and how often each value occurs\n",
    "important while working in statistics and data science\n",
    "random modulre offers methods that return randomly generated data distributions"
   ]
  },
  {
   "cell_type": "code",
   "execution_count": null,
   "id": "aa9e8d41-6528-461c-bbaf-8350aad96c30",
   "metadata": {},
   "outputs": [],
   "source": [
    "#Random distibution\n",
    "a random distribution is a set of random numbers that follow a ceratin possibility  density \n",
    "function"
   ]
  },
  {
   "cell_type": "code",
   "execution_count": null,
   "id": "b06df1b3-84a7-42b1-baf5-c5967e075914",
   "metadata": {},
   "outputs": [],
   "source": [
    "we can generate random number based on the defined probalilites using the choice()\n",
    "method of the random module"
   ]
  },
  {
   "cell_type": "code",
   "execution_count": null,
   "id": "e5c9e7f6-db67-49c3-b3cb-8b1f9c65d332",
   "metadata": {},
   "outputs": [],
   "source": [
    "the choice() method allows us to specify the probability using the choice()\n",
    "method of the random module"
   ]
  },
  {
   "cell_type": "code",
   "execution_count": 3,
   "id": "56caf2f9-82c2-47bc-8d0c-0737b96875c4",
   "metadata": {},
   "outputs": [
    {
     "name": "stdout",
     "output_type": "stream",
     "text": [
      "[4 4 4 3 3 4 4 4 4 5 4 4 4 5 4 4 5 5 4 5 5 4 5 5 5 4 3 4 4 4 4 4 4 4 4 4 4\n",
      " 4 4 3 4 4 3 5 4 5 5 4 4 5 4 4 3 4 4 4 5 4 5 4 4 5 4 4 4 4 4 3 5 4 4 5 4 4\n",
      " 5 4 5 4 5 4 4 4 3 4 4 5 4 4 4 3 5 4 4 5 4 4 3 4 4 4]\n"
     ]
    }
   ],
   "source": [
    "from numpy import random \n",
    "x=random.choice([3,4,5,6],p=[0.1,0.6,0.3,0.0],size=(100))\n",
    "print(x)"
   ]
  },
  {
   "cell_type": "code",
   "execution_count": null,
   "id": "ac0779c6-06c9-4096-8c9a-93274b542a8a",
   "metadata": {},
   "outputs": [],
   "source": [
    "#sum of all probality is 1"
   ]
  },
  {
   "cell_type": "code",
   "execution_count": 4,
   "id": "6571ffdd-b94a-48c9-aa16-a1386a9ceab8",
   "metadata": {},
   "outputs": [
    {
     "name": "stdout",
     "output_type": "stream",
     "text": [
      "[[7 7 7 5 5]\n",
      " [7 7 3 7 7]\n",
      " [7 7 3 3 5]]\n"
     ]
    }
   ],
   "source": [
    "from numpy import random\n",
    "\n",
    "x = random.choice([3, 5, 7, 9], p=[0.1, 0.3, 0.6, 0.0], size=(3, 5))\n",
    "\n",
    "print(x)"
   ]
  },
  {
   "cell_type": "code",
   "execution_count": null,
   "id": "69ad2908-2dd7-48dd-acb2-10d00f88b23c",
   "metadata": {},
   "outputs": [],
   "source": []
  }
 ],
 "metadata": {
  "kernelspec": {
   "display_name": "Python 3 (ipykernel)",
   "language": "python",
   "name": "python3"
  },
  "language_info": {
   "codemirror_mode": {
    "name": "ipython",
    "version": 3
   },
   "file_extension": ".py",
   "mimetype": "text/x-python",
   "name": "python",
   "nbconvert_exporter": "python",
   "pygments_lexer": "ipython3",
   "version": "3.12.7"
  }
 },
 "nbformat": 4,
 "nbformat_minor": 5
}
