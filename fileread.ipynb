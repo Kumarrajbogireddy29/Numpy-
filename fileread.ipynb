{
 "cells": [
  {
   "cell_type": "code",
   "execution_count": null,
   "id": "542eaf19-ce97-455b-a645-9d216e50770b",
   "metadata": {},
   "outputs": [],
   "source": [
    "#file is a important part of any web application\n",
    "#several functions for creating ,reading,updating,and deleting files"
   ]
  },
  {
   "cell_type": "code",
   "execution_count": null,
   "id": "f4fbf197-808b-4af9-af54-80e0db2ad295",
   "metadata": {},
   "outputs": [],
   "source": [
    "#file handling for working  files in python is the open() function"
   ]
  },
  {
   "cell_type": "code",
   "execution_count": null,
   "id": "fdca0921-a082-470f-a8dd-1751983f9252",
   "metadata": {},
   "outputs": [],
   "source": [
    "the open() functionn takes two parameters  filename, and mode"
   ]
  },
  {
   "cell_type": "code",
   "execution_count": null,
   "id": "717b8d92-0924-4974-95a9-5e0338d76da8",
   "metadata": {},
   "outputs": [],
   "source": [
    "there are four methods for opening a file\n",
    "\"r\"-->  read its  a default value,opens a file for reading ,error if the file does not exist\n",
    "\"a\"--> append opens a file for appending ,creates the file if it does not exist\n",
    "\"w\"---> write opens a file for writing creates the file it ot does not exist\n",
    "\"x\"--> create creates a specified file , returns an error if the file exists"
   ]
  },
  {
   "cell_type": "code",
   "execution_count": null,
   "id": "08ecad4c-796e-4a75-9226-76302cac2fba",
   "metadata": {},
   "outputs": [],
   "source": [
    "in addition you can specify file should be handled as binary or text mode\n",
    "\"t: text - default value text mode\n",
    "\"b\" binary binary mode (ex images)"
   ]
  },
  {
   "cell_type": "code",
   "execution_count": null,
   "id": "e7188761-3233-4bd2-9fa9-b18fed24dca1",
   "metadata": {},
   "outputs": [],
   "source": [
    "f=open(\"demo.txt\",\"rt\")"
   ]
  },
  {
   "cell_type": "code",
   "execution_count": null,
   "id": "b4944630-7f0d-4ca9-a1e0-b8f183b0d525",
   "metadata": {},
   "outputs": [],
   "source": [
    "#file open\n",
    "open file on the server"
   ]
  },
  {
   "cell_type": "code",
   "execution_count": 2,
   "id": "1917aa16-eea7-48f9-92af-b549c829b73b",
   "metadata": {},
   "outputs": [
    {
     "name": "stdout",
     "output_type": "stream",
     "text": [
      "{\n",
      " \"cells\": [\n",
      "  {\n",
      "   \"cell_type\": \"code\",\n",
      "   \"execution_count\": null,\n",
      "   \"id\": \"def7d2ab-2d4a-44cc-b64b-015e5b2b53f7\",\n",
      "   \"metadata\": {},\n",
      "   \"outputs\": [],\n",
      "   \"source\": []\n",
      "  }\n",
      " ],\n",
      " \"metadata\": {\n",
      "  \"kernelspec\": {\n",
      "   \"display_name\": \"\",\n",
      "   \"name\": \"\"\n",
      "  },\n",
      "  \"language_info\": {\n",
      "   \"name\": \"\"\n",
      "  }\n",
      " },\n",
      " \"nbformat\": 4,\n",
      " \"nbformat_minor\": 5\n",
      "}\n",
      "\n"
     ]
    }
   ],
   "source": [
    "f=open(\"demo.txt\")\n",
    "print(f.read())"
   ]
  },
  {
   "cell_type": "code",
   "execution_count": 6,
   "id": "bb2c6cab-58b7-4cd7-8b35-f3aff695052f",
   "metadata": {},
   "outputs": [
    {
     "ename": "FileNotFoundError",
     "evalue": "[Errno 2] No such file or directory: 'Documents/Numpy/sortarray.ipynb'",
     "output_type": "error",
     "traceback": [
      "\u001b[1;31m---------------------------------------------------------------------------\u001b[0m",
      "\u001b[1;31mFileNotFoundError\u001b[0m                         Traceback (most recent call last)",
      "Cell \u001b[1;32mIn[6], line 1\u001b[0m\n\u001b[1;32m----> 1\u001b[0m f\u001b[38;5;241m=\u001b[39m\u001b[38;5;28mopen\u001b[39m(\u001b[38;5;124m\"\u001b[39m\u001b[38;5;124mDocuments/Numpy/sortarray.ipynb\u001b[39m\u001b[38;5;124m\"\u001b[39m)\n\u001b[0;32m      2\u001b[0m \u001b[38;5;28mprint\u001b[39m(f\u001b[38;5;241m.\u001b[39mread())\n",
      "File \u001b[1;32m~\\anaconda3\\Lib\\site-packages\\IPython\\core\\interactiveshell.py:324\u001b[0m, in \u001b[0;36m_modified_open\u001b[1;34m(file, *args, **kwargs)\u001b[0m\n\u001b[0;32m    317\u001b[0m \u001b[38;5;28;01mif\u001b[39;00m file \u001b[38;5;129;01min\u001b[39;00m {\u001b[38;5;241m0\u001b[39m, \u001b[38;5;241m1\u001b[39m, \u001b[38;5;241m2\u001b[39m}:\n\u001b[0;32m    318\u001b[0m     \u001b[38;5;28;01mraise\u001b[39;00m \u001b[38;5;167;01mValueError\u001b[39;00m(\n\u001b[0;32m    319\u001b[0m         \u001b[38;5;124mf\u001b[39m\u001b[38;5;124m\"\u001b[39m\u001b[38;5;124mIPython won\u001b[39m\u001b[38;5;124m'\u001b[39m\u001b[38;5;124mt let you open fd=\u001b[39m\u001b[38;5;132;01m{\u001b[39;00mfile\u001b[38;5;132;01m}\u001b[39;00m\u001b[38;5;124m by default \u001b[39m\u001b[38;5;124m\"\u001b[39m\n\u001b[0;32m    320\u001b[0m         \u001b[38;5;124m\"\u001b[39m\u001b[38;5;124mas it is likely to crash IPython. If you know what you are doing, \u001b[39m\u001b[38;5;124m\"\u001b[39m\n\u001b[0;32m    321\u001b[0m         \u001b[38;5;124m\"\u001b[39m\u001b[38;5;124myou can use builtins\u001b[39m\u001b[38;5;124m'\u001b[39m\u001b[38;5;124m open.\u001b[39m\u001b[38;5;124m\"\u001b[39m\n\u001b[0;32m    322\u001b[0m     )\n\u001b[1;32m--> 324\u001b[0m \u001b[38;5;28;01mreturn\u001b[39;00m io_open(file, \u001b[38;5;241m*\u001b[39margs, \u001b[38;5;241m*\u001b[39m\u001b[38;5;241m*\u001b[39mkwargs)\n",
      "\u001b[1;31mFileNotFoundError\u001b[0m: [Errno 2] No such file or directory: 'Documents/Numpy/sortarray.ipynb'"
     ]
    }
   ],
   "source": [
    "f=open(\"Documents/Numpy/sortarray.ipynb\")\n",
    "print(f.read())"
   ]
  },
  {
   "cell_type": "code",
   "execution_count": null,
   "id": "1ec9ec56-bc35-446b-87ed-00af835a4808",
   "metadata": {},
   "outputs": [],
   "source": [
    "with open(\"demofile.txt\" ) as f:\n",
    "    print(f.read())"
   ]
  },
  {
   "cell_type": "code",
   "execution_count": null,
   "id": "e5c14bcb-29d3-4d6f-acf1-22ea02073472",
   "metadata": {},
   "outputs": [],
   "source": [
    "close files"
   ]
  },
  {
   "cell_type": "code",
   "execution_count": null,
   "id": "dcd38f64-bfc6-41c3-b285-69ca30f7e8e9",
   "metadata": {},
   "outputs": [],
   "source": [
    "f=open(\"demo.txt\")\n",
    "print(f.readline())\n",
    "f.close()\n"
   ]
  },
  {
   "cell_type": "code",
   "execution_count": null,
   "id": "fee2c04e-af83-424f-83b9-8cb123d65438",
   "metadata": {},
   "outputs": [],
   "source": [
    "read lines()"
   ]
  },
  {
   "cell_type": "code",
   "execution_count": null,
   "id": "1af81908-70df-4e08-aa93-4b29b709c59a",
   "metadata": {},
   "outputs": [],
   "source": [
    "you can return one line by using the readline() method:"
   ]
  },
  {
   "cell_type": "code",
   "execution_count": null,
   "id": "45c5c9e6-f529-4d8e-a5db-ac27be1f5552",
   "metadata": {},
   "outputs": [],
   "source": [
    "with open(\"demo.txt\") as f:\n",
    "    print(f.readline())"
   ]
  },
  {
   "cell_type": "code",
   "execution_count": null,
   "id": "e1a9481d-c98a-468f-8e04-e6771bc5aba1",
   "metadata": {},
   "outputs": [],
   "source": [
    "with open(\"demofile.txt\") as f:\n",
    "    print(f.readline())\n",
    "    print(f.readline())"
   ]
  },
  {
   "cell_type": "code",
   "execution_count": null,
   "id": "2ccf7bc2-3ec9-4305-b89c-c1a587e0c679",
   "metadata": {},
   "outputs": [],
   "source": [
    "#by looping through the lines of file.you can read the whole file line by line"
   ]
  },
  {
   "cell_type": "code",
   "execution_count": null,
   "id": "dd2212fc-3b5e-4f52-9170-fe4b71e0f344",
   "metadata": {},
   "outputs": [],
   "source": [
    "with open(\"demofile.txt\") as f:\n",
    "    for x in f:\n",
    "        print(x)"
   ]
  }
 ],
 "metadata": {
  "kernelspec": {
   "display_name": "Python 3 (ipykernel)",
   "language": "python",
   "name": "python3"
  },
  "language_info": {
   "codemirror_mode": {
    "name": "ipython",
    "version": 3
   },
   "file_extension": ".py",
   "mimetype": "text/x-python",
   "name": "python",
   "nbconvert_exporter": "python",
   "pygments_lexer": "ipython3",
   "version": "3.12.7"
  }
 },
 "nbformat": 4,
 "nbformat_minor": 5
}
