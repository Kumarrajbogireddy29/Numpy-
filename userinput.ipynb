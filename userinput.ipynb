{
 "cells": [
  {
   "cell_type": "code",
   "execution_count": null,
   "id": "c2593767-d71f-45a4-b08b-3a22a09d7e51",
   "metadata": {},
   "outputs": [],
   "source": [
    "python\n",
    "python allows for user input\n"
   ]
  },
  {
   "cell_type": "code",
   "execution_count": 1,
   "id": "5a9b48bc-c079-4f5f-b1bd-d39bfdc7234a",
   "metadata": {},
   "outputs": [
    {
     "name": "stdout",
     "output_type": "stream",
     "text": [
      "Enter your name\n"
     ]
    },
    {
     "name": "stdin",
     "output_type": "stream",
     "text": [
      " Kumar Raj Bogireddy\n"
     ]
    },
    {
     "name": "stdout",
     "output_type": "stream",
     "text": [
      "Hello Kumar Raj Bogireddy\n"
     ]
    }
   ],
   "source": [
    "print(\"Enter your name\")\n",
    "name=input()\n",
    "print(f\"Hello {name}\")"
   ]
  },
  {
   "cell_type": "code",
   "execution_count": 6,
   "id": "e02eff3a-8a88-4ba5-9d5b-98f7ae0e9a5f",
   "metadata": {},
   "outputs": [
    {
     "name": "stdin",
     "output_type": "stream",
     "text": [
      "Enter your name Kumar Raj Bogireddy\n"
     ]
    },
    {
     "name": "stdout",
     "output_type": "stream",
     "text": [
      "helloKumar Raj Bogireddy\n"
     ]
    }
   ],
   "source": [
    "name=input(\"Enter your name\")\n",
    "print(f\"hello{name}\")"
   ]
  },
  {
   "cell_type": "code",
   "execution_count": null,
   "id": "42f2f7dd-0870-4f1e-a053-463426868acb",
   "metadata": {},
   "outputs": [],
   "source": [
    "#multiple Inputs"
   ]
  },
  {
   "cell_type": "code",
   "execution_count": 8,
   "id": "f379bf71-d1d0-4deb-a8e6-749857d0ff87",
   "metadata": {},
   "outputs": [
    {
     "name": "stdin",
     "output_type": "stream",
     "text": [
      "Enter your name kumar Raj \n"
     ]
    },
    {
     "name": "stdout",
     "output_type": "stream",
     "text": [
      "HELLOkumar Raj \n"
     ]
    },
    {
     "name": "stdin",
     "output_type": "stream",
     "text": [
      "What is your favourite animal: Dog\n",
      "What is your favourite color: Black\n",
      "What is your favourite number: 2\n"
     ]
    },
    {
     "name": "stdout",
     "output_type": "stream",
     "text": [
      "Do you a Dog Black with 2 legs?\n"
     ]
    }
   ],
   "source": [
    "name=input(\"Enter your name\")\n",
    "print(f\"HELLO{name}\")\n",
    "fav1=input(\"What is your favourite animal:\")\n",
    "fav2=input(\"What is your favourite color:\")\n",
    "fav3=input(\"What is your favourite number:\")\n",
    "\n",
    "print(f\"Do you a {fav1} {fav2} with {fav3} legs?\")"
   ]
  },
  {
   "cell_type": "code",
   "execution_count": 12,
   "id": "3fb5312f-5993-4a6b-878b-cf7a54a1b379",
   "metadata": {},
   "outputs": [
    {
     "name": "stdin",
     "output_type": "stream",
     "text": [
      "Enter the number 5\n"
     ]
    },
    {
     "name": "stdout",
     "output_type": "stream",
     "text": [
      "The square root of 5 is 2.23606797749979\n"
     ]
    }
   ],
   "source": [
    "import math\n",
    "x=input(\"Enter the number\")\n",
    "y=math.sqrt(float(x))\n",
    "print(f\"The square root of {x} is {y}\")"
   ]
  },
  {
   "cell_type": "code",
   "execution_count": null,
   "id": "7c5f64a4-0998-4e01-835e-daae1ec5daab",
   "metadata": {},
   "outputs": [],
   "source": [
    "Input Number "
   ]
  },
  {
   "cell_type": "code",
   "execution_count": 13,
   "id": "6de224c2-67e2-4be0-aeed-8a3ba4b7554e",
   "metadata": {},
   "outputs": [
    {
     "name": "stdin",
     "output_type": "stream",
     "text": [
      "enter the nnumebr: 25\n"
     ]
    },
    {
     "name": "stdout",
     "output_type": "stream",
     "text": [
      "The square root of 25 is 5.0\n"
     ]
    }
   ],
   "source": [
    "x=input('enter the nnumebr:')\n",
    "y=math.sqrt(float(x))\n",
    "print(f\"The square root of {x} is {y}\")"
   ]
  },
  {
   "cell_type": "code",
   "execution_count": null,
   "id": "8e7410ec-276b-4f94-8b0e-b7c4bef7a865",
   "metadata": {},
   "outputs": [],
   "source": [
    "validate input"
   ]
  },
  {
   "cell_type": "code",
   "execution_count": null,
   "id": "d9098c0e-2ce9-4f0b-8525-0826b56a020b",
   "metadata": {},
   "outputs": [
    {
     "name": "stdin",
     "output_type": "stream",
     "text": [
      "Enter the number: 45\n"
     ]
    },
    {
     "name": "stdout",
     "output_type": "stream",
     "text": [
      "Wrong input,please try again.\n"
     ]
    },
    {
     "name": "stdin",
     "output_type": "stream",
     "text": [
      "Enter the number: 45\n"
     ]
    },
    {
     "name": "stdout",
     "output_type": "stream",
     "text": [
      "Wrong input,please try again.\n"
     ]
    },
    {
     "name": "stdin",
     "output_type": "stream",
     "text": [
      "Enter the number: 87\n"
     ]
    },
    {
     "name": "stdout",
     "output_type": "stream",
     "text": [
      "Wrong input,please try again.\n"
     ]
    },
    {
     "name": "stdin",
     "output_type": "stream",
     "text": [
      "Enter the number: 90\n"
     ]
    },
    {
     "name": "stdout",
     "output_type": "stream",
     "text": [
      "Wrong input,please try again.\n"
     ]
    },
    {
     "name": "stdin",
     "output_type": "stream",
     "text": [
      "Enter the number: 2.00\n"
     ]
    },
    {
     "name": "stdout",
     "output_type": "stream",
     "text": [
      "Wrong input,please try again.\n"
     ]
    }
   ],
   "source": [
    "y=True\n",
    "while y == True:\n",
    "    x=input(\"Enter the number:\")\n",
    "    try:\n",
    "        x=float(x)\n",
    "        y=Flase\n",
    "    except:\n",
    "        print(\"Wrong input,please try again.\")\n",
    "print(\"Thank you!!\")"
   ]
  },
  {
   "cell_type": "code",
   "execution_count": null,
   "id": "234b5442-2940-400f-88c5-85cf94ae798f",
   "metadata": {},
   "outputs": [],
   "source": []
  }
 ],
 "metadata": {
  "kernelspec": {
   "display_name": "Python 3 (ipykernel)",
   "language": "python",
   "name": "python3"
  },
  "language_info": {
   "codemirror_mode": {
    "name": "ipython",
    "version": 3
   },
   "file_extension": ".py",
   "mimetype": "text/x-python",
   "name": "python",
   "nbconvert_exporter": "python",
   "pygments_lexer": "ipython3",
   "version": "3.12.7"
  }
 },
 "nbformat": 4,
 "nbformat_minor": 5
}
