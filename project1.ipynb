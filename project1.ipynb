{
 "cells": [
  {
   "cell_type": "code",
   "execution_count": null,
   "id": "1ddfed52-af99-4ca4-a681-08332e7a0eb8",
   "metadata": {},
   "outputs": [],
   "source": []
  },
  {
   "cell_type": "code",
   "execution_count": 8,
   "id": "0f57628a-3d87-41a1-990d-e10742a0f201",
   "metadata": {},
   "outputs": [
    {
     "name": "stdout",
     "output_type": "stream",
     "text": [
      "Requirement already satisfied: pyscreenshot in c:\\users\\chandana\\anaconda3\\lib\\site-packages (3.1)\n",
      "Requirement already satisfied: EasyProcess in c:\\users\\chandana\\anaconda3\\lib\\site-packages (from pyscreenshot) (1.1)\n",
      "Requirement already satisfied: entrypoint2 in c:\\users\\chandana\\anaconda3\\lib\\site-packages (from pyscreenshot) (1.1)\n",
      "Requirement already satisfied: mss in c:\\users\\chandana\\anaconda3\\lib\\site-packages (from pyscreenshot) (10.0.0)\n",
      "Taing screenshot in 5 seconds\n",
      "image saved successfully\n"
     ]
    }
   ],
   "source": [
    "!pip install pyscreenshot\n",
    "import pyscreenshot\n",
    "import time\n",
    "image=pyscreenshot.grab()\n",
    "print(\"Taing screenshot in 5 seconds\")\n",
    "time.sleep(5) \n",
    "image.show()\n",
    "image.save(\"geeksforgeeks.png\")\n",
    "print(\"image saved successfully\")"
   ]
  },
  {
   "cell_type": "code",
   "execution_count": null,
   "id": "73223563-809b-43fb-8d44-c4b8d204a834",
   "metadata": {},
   "outputs": [],
   "source": []
  },
  {
   "cell_type": "code",
   "execution_count": null,
   "id": "534d99f0-dd30-462a-9dc7-20c29690d968",
   "metadata": {},
   "outputs": [],
   "source": [
    "#number guessing game in python"
   ]
  },
  {
   "cell_type": "code",
   "execution_count": 12,
   "id": "bc37f7d3-e3e1-43d2-bfee-1a6e6a81de71",
   "metadata": {},
   "outputs": [
    {
     "name": "stdout",
     "output_type": "stream",
     "text": [
      "Hi! Welcome to the Number Guessing Game.\n",
      "You have 7 chances to guess the number. Let's start!\n"
     ]
    },
    {
     "name": "stdin",
     "output_type": "stream",
     "text": [
      "Enter the Lower Bound:  8\n",
      "Enter the Upper Bound:  16\n"
     ]
    },
    {
     "name": "stdout",
     "output_type": "stream",
     "text": [
      "\n",
      "You have 7 chances to guess the number between 8 and 16. Let's start!\n"
     ]
    },
    {
     "name": "stdin",
     "output_type": "stream",
     "text": [
      "Enter your guess:  5\n"
     ]
    },
    {
     "name": "stdout",
     "output_type": "stream",
     "text": [
      "Too low! Try a higher number.\n"
     ]
    },
    {
     "name": "stdin",
     "output_type": "stream",
     "text": [
      "Enter your guess:  13\n"
     ]
    },
    {
     "name": "stdout",
     "output_type": "stream",
     "text": [
      "Too low! Try a higher number.\n"
     ]
    },
    {
     "name": "stdin",
     "output_type": "stream",
     "text": [
      "Enter your guess:  18\n"
     ]
    },
    {
     "name": "stdout",
     "output_type": "stream",
     "text": [
      "Too high! Try a lower number.\n"
     ]
    },
    {
     "name": "stdin",
     "output_type": "stream",
     "text": [
      "Enter your guess:  16\n"
     ]
    },
    {
     "name": "stdout",
     "output_type": "stream",
     "text": [
      "Too high! Try a lower number.\n"
     ]
    },
    {
     "name": "stdin",
     "output_type": "stream",
     "text": [
      "Enter your guess:  17\n"
     ]
    },
    {
     "name": "stdout",
     "output_type": "stream",
     "text": [
      "Too high! Try a lower number.\n"
     ]
    },
    {
     "name": "stdin",
     "output_type": "stream",
     "text": [
      "Enter your guess:  15\n"
     ]
    },
    {
     "name": "stdout",
     "output_type": "stream",
     "text": [
      "Too high! Try a lower number.\n"
     ]
    },
    {
     "name": "stdin",
     "output_type": "stream",
     "text": [
      "Enter your guess:  13\n"
     ]
    },
    {
     "name": "stdout",
     "output_type": "stream",
     "text": [
      "orry! The number was 14. Better luck next time.\n"
     ]
    }
   ],
   "source": [
    "import random\n",
    "\n",
    "print(\"Hi! Welcome to the Number Guessing Game.\\nYou have 7 chances to guess the number. Let's start!\")\n",
    "\n",
    "low = int(input(\"Enter the Lower Bound: \"))\n",
    "high = int(input(\"Enter the Upper Bound: \"))\n",
    "\n",
    "print(f\"\\nYou have 7 chances to guess the number between {low} and {high}. Let's start!\")\n",
    "\n",
    "num = random.randint(low, high) \n",
    "ch = 7                        # Total allowed chances\n",
    "gc = 0                        # Guess counter\n",
    "\n",
    "while gc < ch:\n",
    "    gc += 1\n",
    "    guess = int(input('Enter your guess: '))\n",
    "\n",
    "    if guess == num:\n",
    "        print(f'Correct! The number is {num}. You guessed it in {gc} attempts.')\n",
    "        break\n",
    "\n",
    "    elif gc >= ch and guess != num:\n",
    "        print(f'orry! The number was {num}. Better luck next time.')\n",
    "\n",
    "    elif guess > num:\n",
    "        print('Too high! Try a lower number.')\n",
    "\n",
    "    elif guess < num:\n",
    "        print('Too low! Try a higher number.')"
   ]
  },
  {
   "cell_type": "code",
   "execution_count": null,
   "id": "2d46b6d4-2dd5-4738-9e3c-8d2c61b43f15",
   "metadata": {},
   "outputs": [],
   "source": []
  }
 ],
 "metadata": {
  "kernelspec": {
   "display_name": "Python 3 (ipykernel)",
   "language": "python",
   "name": "python3"
  },
  "language_info": {
   "codemirror_mode": {
    "name": "ipython",
    "version": 3
   },
   "file_extension": ".py",
   "mimetype": "text/x-python",
   "name": "python",
   "nbconvert_exporter": "python",
   "pygments_lexer": "ipython3",
   "version": "3.12.7"
  }
 },
 "nbformat": 4,
 "nbformat_minor": 5
}
