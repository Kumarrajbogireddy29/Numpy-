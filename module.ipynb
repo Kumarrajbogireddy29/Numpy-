{
 "cells": [
  {
   "cell_type": "code",
   "execution_count": null,
   "id": "a36182fd-ad55-4370-96ea-d4ea507d90c3",
   "metadata": {},
   "outputs": [],
   "source": [
    "#python scope"
   ]
  },
  {
   "cell_type": "code",
   "execution_count": null,
   "id": "be2823f7-9901-428d-9f57-a85cf58c95ba",
   "metadata": {},
   "outputs": [],
   "source": [
    "a variable is only available from inside the region is created.This is called scope"
   ]
  },
  {
   "cell_type": "code",
   "execution_count": null,
   "id": "af910945-99a0-41e1-8a5f-d920109e35c2",
   "metadata": {},
   "outputs": [],
   "source": [
    "#loop scope"
   ]
  },
  {
   "cell_type": "code",
   "execution_count": null,
   "id": "72b8223c-2e8b-469b-ba9b-cf2d5978849c",
   "metadata": {},
   "outputs": [],
   "source": [
    "a variable is created inside a function belongs to local scope of that function,\n",
    "and can only be used inside that function"
   ]
  },
  {
   "cell_type": "code",
   "execution_count": null,
   "id": "d1a3c4f5-644a-4eea-86ea-8d278f9e47a0",
   "metadata": {},
   "outputs": [],
   "source": [
    "a variable is created inside a function is available inside that function"
   ]
  },
  {
   "cell_type": "code",
   "execution_count": 2,
   "id": "bd4082ab-cf0d-4d12-ab97-790c37786f97",
   "metadata": {},
   "outputs": [
    {
     "name": "stdout",
     "output_type": "stream",
     "text": [
      "300\n"
     ]
    }
   ],
   "source": [
    "def myfunc():\n",
    "    x=300\n",
    "    print(x)\n",
    "myfunc()"
   ]
  },
  {
   "cell_type": "code",
   "execution_count": null,
   "id": "99f7981e-6487-4c23-a649-cae1ca84a94c",
   "metadata": {},
   "outputs": [],
   "source": [
    "#function inside the function\n",
    "as explained in the example,above the varaible x is not available outside the function,\n",
    "but is available for any function inside the function."
   ]
  },
  {
   "cell_type": "code",
   "execution_count": 5,
   "id": "298abd78-51bd-4984-84a1-59af047e4e38",
   "metadata": {},
   "outputs": [
    {
     "name": "stdout",
     "output_type": "stream",
     "text": [
      "300\n"
     ]
    }
   ],
   "source": [
    "def myfunc():\n",
    "    x=300\n",
    "    def myinnerfunc():\n",
    "        print(x)\n",
    "    myinnerfunc()\n",
    "myfunc()"
   ]
  },
  {
   "cell_type": "code",
   "execution_count": null,
   "id": "8b6dc279-bfd2-4af8-9461-13be94967c97",
   "metadata": {},
   "outputs": [],
   "source": [
    "#Global Scope \n",
    "\n",
    "a variable is created in the main body of the python code in the global variable\n",
    "and belongs to the global scope "
   ]
  },
  {
   "cell_type": "code",
   "execution_count": 7,
   "id": "0cb88760-e3b5-4d6e-8180-428c9a94c721",
   "metadata": {},
   "outputs": [
    {
     "name": "stdout",
     "output_type": "stream",
     "text": [
      "300\n",
      "300\n"
     ]
    }
   ],
   "source": [
    "x=300\n",
    "def myfunc():\n",
    "    print(x)\n",
    "myfunc()\n",
    "print(x)"
   ]
  },
  {
   "cell_type": "code",
   "execution_count": null,
   "id": "0735431b-3c95-48bf-9dfc-6a763f236fbb",
   "metadata": {},
   "outputs": [],
   "source": [
    "#naming variable \n",
    "if you operate with the same variable name inside and outside of a function\n",
    "python will treat them as two separate variables ,one available in the global scope "
   ]
  },
  {
   "cell_type": "code",
   "execution_count": 10,
   "id": "08f4fe78-f6a2-45e6-9c0f-ba076a228294",
   "metadata": {},
   "outputs": [
    {
     "name": "stdout",
     "output_type": "stream",
     "text": [
      "200\n",
      "300\n"
     ]
    }
   ],
   "source": [
    "x=300\n",
    "def myfunc():\n",
    "    x=200\n",
    "    print(x)\n",
    "myfunc()\n",
    "print(x)"
   ]
  },
  {
   "cell_type": "code",
   "execution_count": null,
   "id": "f93bc356-e35b-4425-a5f6-dc7d5f2eae07",
   "metadata": {},
   "outputs": [],
   "source": [
    "#global keyword \n",
    "if you need to create a global variable\n",
    "but are stuck in the local scope,you can use the global variable "
   ]
  },
  {
   "cell_type": "code",
   "execution_count": 11,
   "id": "cae495e9-5aa2-4f6b-825f-5cd7193dccde",
   "metadata": {},
   "outputs": [
    {
     "name": "stdout",
     "output_type": "stream",
     "text": [
      "300\n"
     ]
    }
   ],
   "source": [
    "def myfunc():\n",
    "    global x\n",
    "    x=300\n",
    "myfunc()\n",
    "print(x)"
   ]
  },
  {
   "cell_type": "code",
   "execution_count": 18,
   "id": "23aac06c-e509-4d20-8f80-c8877afe4ffe",
   "metadata": {},
   "outputs": [
    {
     "name": "stdout",
     "output_type": "stream",
     "text": [
      "200\n"
     ]
    }
   ],
   "source": [
    "x=200\n",
    "def myfunc():\n",
    "    print(x)\n",
    "myfunc()"
   ]
  },
  {
   "cell_type": "code",
   "execution_count": 20,
   "id": "0b5700e6-867b-4a7e-af33-062295d6771d",
   "metadata": {},
   "outputs": [
    {
     "name": "stdout",
     "output_type": "stream",
     "text": [
      "300\n"
     ]
    }
   ],
   "source": [
    "def myfunc():\n",
    "    x=300\n",
    "    print(x)\n",
    "myfunc()"
   ]
  },
  {
   "cell_type": "code",
   "execution_count": 39,
   "id": "f8e3925d-c836-40be-9a60-d39297027579",
   "metadata": {},
   "outputs": [
    {
     "name": "stdout",
     "output_type": "stream",
     "text": [
      "hello\n"
     ]
    }
   ],
   "source": [
    "def myfunc1():\n",
    "  x = \"Jane\"\n",
    "  def myfunc2():\n",
    "    nonlocal x\n",
    "    x = \"hello\"\n",
    "  myfunc2()\n",
    "  return x\n",
    "\n",
    "print(myfunc1())\n",
    "        \n",
    "        "
   ]
  },
  {
   "cell_type": "code",
   "execution_count": null,
   "id": "da86f213-c59a-4704-904d-7b7ada9d8c72",
   "metadata": {},
   "outputs": [],
   "source": []
  }
 ],
 "metadata": {
  "kernelspec": {
   "display_name": "Python 3 (ipykernel)",
   "language": "python",
   "name": "python3"
  },
  "language_info": {
   "codemirror_mode": {
    "name": "ipython",
    "version": 3
   },
   "file_extension": ".py",
   "mimetype": "text/x-python",
   "name": "python",
   "nbconvert_exporter": "python",
   "pygments_lexer": "ipython3",
   "version": "3.12.7"
  }
 },
 "nbformat": 4,
 "nbformat_minor": 5
}
