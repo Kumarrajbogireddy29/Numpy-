{
 "cells": [
  {
   "cell_type": "code",
   "execution_count": null,
   "id": "8bd74489-4d49-4049-9248-b8358d821eff",
   "metadata": {},
   "outputs": [],
   "source": [
    "classes and object \n",
    "python is a object oriented programming language \n",
    "and class is a blue print to create an object\n",
    "and "
   ]
  },
  {
   "cell_type": "code",
   "execution_count": 3,
   "id": "531bf4bf-253d-4f03-8afd-42cf37cd1612",
   "metadata": {},
   "outputs": [],
   "source": [
    "#class creation\n",
    "class myclass:\n",
    "     x = 5"
   ]
  },
  {
   "cell_type": "code",
   "execution_count": 5,
   "id": "04a25c7e-9155-4f90-bb5e-c1e071dac19c",
   "metadata": {},
   "outputs": [
    {
     "name": "stdout",
     "output_type": "stream",
     "text": [
      "5\n"
     ]
    }
   ],
   "source": [
    "#example\n",
    "class Myclass:\n",
    "    x =5\n",
    "p1=Myclass()\n",
    "print(p1.x)"
   ]
  },
  {
   "cell_type": "code",
   "execution_count": 6,
   "id": "da8d3dd2-fe09-487b-9d29-bbaa335b1a06",
   "metadata": {},
   "outputs": [],
   "source": [
    "#init function:"
   ]
  },
  {
   "cell_type": "code",
   "execution_count": null,
   "id": "32f8bb81-f547-49c2-98ce-5e9aa41ebadd",
   "metadata": {},
   "outputs": [],
   "source": [
    "to understand classes we have to understand the built function __inint__() function"
   ]
  },
  {
   "cell_type": "code",
   "execution_count": null,
   "id": "75085082-0260-4b75-a0cb-56b38171d76c",
   "metadata": {},
   "outputs": [],
   "source": [
    "all classes have a function called __init__() which is always executed \n",
    "when the class is being initiated"
   ]
  },
  {
   "cell_type": "code",
   "execution_count": null,
   "id": "17b48f33-7eb2-406a-bb06-a57ef2f7ee5d",
   "metadata": {},
   "outputs": [],
   "source": [
    "use the __init__() function to assign values to the object properties or \n",
    "other operations that are necessary to do when the object is being created"
   ]
  },
  {
   "cell_type": "code",
   "execution_count": null,
   "id": "b395811c-f68e-4b3a-9009-befd1db2a40e",
   "metadata": {},
   "outputs": [],
   "source": [
    "#createe a  class name called person and initialize the values using the  __init__() function"
   ]
  },
  {
   "cell_type": "code",
   "execution_count": 9,
   "id": "549c2415-d358-4ed5-afaf-a2d583722f81",
   "metadata": {},
   "outputs": [
    {
     "name": "stdout",
     "output_type": "stream",
     "text": [
      "John\n",
      "36\n"
     ]
    }
   ],
   "source": [
    "class Person:\n",
    "    def __init__(self,name,age):\n",
    "        self.name = name\n",
    "        self.age = age\n",
    "p1 = Person(\"John\",36)\n",
    "print(p1.name)\n",
    "print(p1.age)"
   ]
  },
  {
   "cell_type": "code",
   "execution_count": null,
   "id": "7178d1f9-d501-404f-ad39-15b9c1efe80b",
   "metadata": {},
   "outputs": [],
   "source": [
    "#object methods\n",
    "objects also contain the methods methods in objects are functions that belong to the onject"
   ]
  },
  {
   "cell_type": "code",
   "execution_count": null,
   "id": "d2b9cd2d-a0ec-43d1-8d22-145e0ccb1dd0",
   "metadata": {},
   "outputs": [],
   "source": [
    "#Lets create  a method in the person class:"
   ]
  },
  {
   "cell_type": "code",
   "execution_count": 14,
   "id": "15b56237-21de-4302-b202-4bc27e609cf7",
   "metadata": {},
   "outputs": [
    {
     "name": "stdout",
     "output_type": "stream",
     "text": [
      "Hello My name is John\n"
     ]
    }
   ],
   "source": [
    "class Person:\n",
    "    def __init__(self,name,age):\n",
    "        self.name=name\n",
    "        self.age=age\n",
    "    def myfunc(self):\n",
    "        print(\"Hello My name is \"+self.name)\n",
    "p1 = Person(\"John\",36)\n",
    "p1.myfunc()"
   ]
  },
  {
   "cell_type": "code",
   "execution_count": null,
   "id": "8ed750c3-8028-49f5-a8f7-ad48df5d409a",
   "metadata": {},
   "outputs": [],
   "source": [
    "#self parameter "
   ]
  },
  {
   "cell_type": "markdown",
   "id": "644b0fc3-82e2-427f-930c-197410d59acf",
   "metadata": {},
   "source": [
    "#modify object\n",
    "p1.age=40"
   ]
  },
  {
   "cell_type": "code",
   "execution_count": null,
   "id": "4627fccb-aa00-4d57-b571-0eb8653e911a",
   "metadata": {},
   "outputs": [],
   "source": [
    "#delete object\n",
    "del p1.age"
   ]
  },
  {
   "cell_type": "code",
   "execution_count": null,
   "id": "2bf3bbff-d168-45c6-9edb-0610025ea262",
   "metadata": {},
   "outputs": [],
   "source": [
    "#pass statement \n",
    "class definitions cannot be empty ,but some reasons you have a class definition\n",
    "with out no content ,then put it in the pass statement to avoid getting  errror"
   ]
  },
  {
   "cell_type": "code",
   "execution_count": 16,
   "id": "1bfa09cd-6182-43dd-914b-6183c5cac153",
   "metadata": {},
   "outputs": [],
   "source": [
    "class person:\n",
    "    pass"
   ]
  },
  {
   "cell_type": "code",
   "execution_count": null,
   "id": "6a2483df-1e16-417c-8e4b-293b318ad20a",
   "metadata": {},
   "outputs": [],
   "source": []
  }
 ],
 "metadata": {
  "kernelspec": {
   "display_name": "Python 3 (ipykernel)",
   "language": "python",
   "name": "python3"
  },
  "language_info": {
   "codemirror_mode": {
    "name": "ipython",
    "version": 3
   },
   "file_extension": ".py",
   "mimetype": "text/x-python",
   "name": "python",
   "nbconvert_exporter": "python",
   "pygments_lexer": "ipython3",
   "version": "3.12.7"
  }
 },
 "nbformat": 4,
 "nbformat_minor": 5
}
