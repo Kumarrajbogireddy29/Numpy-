{
 "cells": [
  {
   "cell_type": "code",
   "execution_count": null,
   "id": "ea514604-fc45-4f3b-987a-230fb59aa621",
   "metadata": {},
   "outputs": [],
   "source": [
    "#python Inheritance"
   ]
  },
  {
   "cell_type": "code",
   "execution_count": null,
   "id": "ed96911d-14ff-4e64-9b3b-63b2b699b912",
   "metadata": {},
   "outputs": [],
   "source": [
    "inheritance allows us to define a class that inherits all the methods\n",
    "and properties from another class"
   ]
  },
  {
   "cell_type": "raw",
   "id": "c6c03f4e-e9aa-4f40-bf80-6eccc7dd159b",
   "metadata": {},
   "source": [
    "parent class is the class being inherited from,also called base class"
   ]
  },
  {
   "cell_type": "code",
   "execution_count": null,
   "id": "f2850a48-3374-4986-96e7-9f3ae2a09a60",
   "metadata": {},
   "outputs": [],
   "source": [
    "child class is the class that inherits fromm another class also called derived class"
   ]
  },
  {
   "cell_type": "code",
   "execution_count": null,
   "id": "068fab71-0fdc-4ab8-86b3-29dc5f9224fc",
   "metadata": {},
   "outputs": [],
   "source": [
    "#create a parent class"
   ]
  },
  {
   "cell_type": "code",
   "execution_count": null,
   "id": "4de5d21e-5875-4dd6-89d2-529f44857138",
   "metadata": {},
   "outputs": [],
   "source": [
    "any class can be a parent class  so the syntax is the same as creating any other class"
   ]
  },
  {
   "cell_type": "code",
   "execution_count": null,
   "id": "cd59d504-39a1-4928-a542-842e4c5558dd",
   "metadata": {},
   "outputs": [],
   "source": [
    "#create a class named person,with firstname and lastname properties and a printname"
   ]
  },
  {
   "cell_type": "code",
   "execution_count": null,
   "id": "ec57354e-3d79-415a-8520-edd2c890656f",
   "metadata": {},
   "outputs": [],
   "source": []
  },
  {
   "cell_type": "code",
   "execution_count": 5,
   "id": "f83aebb3-a529-4cea-9ff8-4c72d53666a3",
   "metadata": {
    "scrolled": true
   },
   "outputs": [
    {
     "name": "stdout",
     "output_type": "stream",
     "text": [
      "John Doe\n"
     ]
    }
   ],
   "source": [
    "class person:\n",
    "    def __init__(self,fname,lname):\n",
    "        self.firstname =fname\n",
    "        self.lastname =lname\n",
    "    def printname(self):\n",
    "        print(self.firstname,self.lastname)\n",
    "x=person(\"John\",\"Doe\")\n",
    "x.printname()"
   ]
  },
  {
   "cell_type": "code",
   "execution_count": 7,
   "id": "42f3c3d9-131f-4c23-b04d-8a3932958ab8",
   "metadata": {},
   "outputs": [],
   "source": [
    "#create child class\n",
    "\n",
    "class student(person):\n",
    "    pass"
   ]
  },
  {
   "cell_type": "code",
   "execution_count": null,
   "id": "0bbf97cf-ae2b-4dfe-b241-2e326b7dc004",
   "metadata": {},
   "outputs": [],
   "source": [
    "use the pass keyword when you dont want to add any other preoperties\n",
    "or methods to the class"
   ]
  },
  {
   "cell_type": "code",
   "execution_count": null,
   "id": "642aad97-2623-47fd-bdf3-c06177d6f0ff",
   "metadata": {},
   "outputs": [],
   "source": [
    "#add the __init__() function"
   ]
  },
  {
   "cell_type": "code",
   "execution_count": null,
   "id": "5daee33f-85f1-43ff-b25b-139019cc4fdc",
   "metadata": {},
   "outputs": [],
   "source": [
    "we want to add the __init__() fun to the child class (instead of the pass keyword)"
   ]
  },
  {
   "cell_type": "code",
   "execution_count": null,
   "id": "cfee8603-dda3-4902-ac19-dbc5a05aede0",
   "metadata": {},
   "outputs": [],
   "source": [
    "add the __init__() function is called automatically every time in the \n",
    "class being used to create a new object"
   ]
  },
  {
   "cell_type": "code",
   "execution_count": null,
   "id": "5bdf018d-cac9-4b81-8011-9c8fe0c64d65",
   "metadata": {},
   "outputs": [],
   "source": [
    "#example\n",
    "class student(person):\n",
    "    def __init__(self,fname,lname):\n",
    "        #add the propeties"
   ]
  },
  {
   "cell_type": "code",
   "execution_count": null,
   "id": "6a285b9b-37c6-4ebe-b8cf-487430e95ab3",
   "metadata": {},
   "outputs": [],
   "source": [
    "when you add the __init__() function the child class will no longer inherit \n",
    "the parents __init__() function"
   ]
  },
  {
   "cell_type": "code",
   "execution_count": null,
   "id": "43a4ddef-85dc-4ebf-94d9-b9f732b2017b",
   "metadata": {},
   "outputs": [],
   "source": [
    "the child __init__() function overrides the inheritance of the parents __init__() function"
   ]
  },
  {
   "cell_type": "code",
   "execution_count": null,
   "id": "93dfe1ac-6737-45c2-b759-27adc3101acc",
   "metadata": {},
   "outputs": [],
   "source": [
    "the child __init__() function the child class will overrides the inheritance \n",
    "of the properties of __init__() function"
   ]
  },
  {
   "cell_type": "code",
   "execution_count": null,
   "id": "ff881079-19d2-4f86-af89-f84c9d1419c8",
   "metadata": {},
   "outputs": [],
   "source": [
    "to keep the inheritamce of the parents __init___() function add call\n",
    "to the parents __init__() function"
   ]
  },
  {
   "cell_type": "code",
   "execution_count": null,
   "id": "89c9fa8e-5b1d-439e-b9c2-d4bce80a79d6",
   "metadata": {},
   "outputs": [],
   "source": [
    "use the super() function"
   ]
  },
  {
   "cell_type": "code",
   "execution_count": 13,
   "id": "4a1898fa-3c66-4c0d-9f06-21b67050d8b3",
   "metadata": {},
   "outputs": [],
   "source": [
    "class student(person):\n",
    "    def __init__(self,fname,lname):\n",
    "        super().__init__(fname,lname)\n",
    "    "
   ]
  },
  {
   "cell_type": "code",
   "execution_count": null,
   "id": "4fcb3dc0-5a14-4efe-a0ac-707b2ca1e680",
   "metadata": {},
   "outputs": [],
   "source": [
    "by using the super method it automatically calls the parent class "
   ]
  },
  {
   "cell_type": "code",
   "execution_count": null,
   "id": "71092c14-d2e2-464a-b61f-5512a1bd7a2d",
   "metadata": {},
   "outputs": [],
   "source": []
  }
 ],
 "metadata": {
  "kernelspec": {
   "display_name": "Python 3 (ipykernel)",
   "language": "python",
   "name": "python3"
  },
  "language_info": {
   "codemirror_mode": {
    "name": "ipython",
    "version": 3
   },
   "file_extension": ".py",
   "mimetype": "text/x-python",
   "name": "python",
   "nbconvert_exporter": "python",
   "pygments_lexer": "ipython3",
   "version": "3.12.7"
  }
 },
 "nbformat": 4,
 "nbformat_minor": 5
}
