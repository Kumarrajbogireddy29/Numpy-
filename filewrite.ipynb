{
 "cells": [
  {
   "cell_type": "code",
   "execution_count": null,
   "id": "be620003-e1bd-4ef2-93ac-23a9dafc1549",
   "metadata": {},
   "outputs": [],
   "source": [
    "#write to an existing file"
   ]
  },
  {
   "cell_type": "code",
   "execution_count": null,
   "id": "9ae6b44f-bd23-452b-b2c7-f54a57d6736d",
   "metadata": {},
   "outputs": [],
   "source": [
    "to write to an existing file, you must add a parameter to the open() function:"
   ]
  },
  {
   "cell_type": "code",
   "execution_count": null,
   "id": "eba4d6ea-e652-4a2f-b504-6bac07f90d2e",
   "metadata": {},
   "outputs": [],
   "source": [
    "\"a\": append:will append to the end of the file\n",
    "\"w\":write: will over write any existing content"
   ]
  },
  {
   "cell_type": "code",
   "execution_count": null,
   "id": "c14da154-8c59-4ed6-bce3-e657fd21b7c0",
   "metadata": {},
   "outputs": [],
   "source": [
    "with open(\"demo.txt\",\"a\") as f:\n",
    "    f.write(\"now thw file has more content\")\n",
    "#open and read the file after the appending:\n",
    "with open(\"demofile.txt\") as f:\n",
    "    print(f.read())"
   ]
  },
  {
   "cell_type": "code",
   "execution_count": null,
   "id": "0f3dcb02-0323-4fc9-80ff-03bac3be2944",
   "metadata": {},
   "outputs": [],
   "source": [
    "#over existing file content"
   ]
  },
  {
   "cell_type": "code",
   "execution_count": null,
   "id": "92defd2a-e0c2-4d86-ba76-a50e243754ad",
   "metadata": {},
   "outputs": [],
   "source": [
    "with open(\"demo.txt\",\"w\") as f:\n",
    "    f.write(\"woops I have deleted the content\")\n",
    "#open and read the file after the overwriting:\n",
    "with open(\"demo.txt\") as f:\n",
    "    print(f.read())"
   ]
  },
  {
   "cell_type": "code",
   "execution_count": null,
   "id": "236c9441-a1c0-47b4-985d-abb5fea1b569",
   "metadata": {},
   "outputs": [],
   "source": [
    "#creating a new file"
   ]
  },
  {
   "cell_type": "code",
   "execution_count": null,
   "id": "d3f0f866-1077-4d19-8cc4-bc0c9fcd5547",
   "metadata": {},
   "outputs": [],
   "source": [
    "f = open(\"myfile.txt\",\"x\")\n",
    "# a new empty file is created"
   ]
  }
 ],
 "metadata": {
  "kernelspec": {
   "display_name": "Python 3 (ipykernel)",
   "language": "python",
   "name": "python3"
  },
  "language_info": {
   "codemirror_mode": {
    "name": "ipython",
    "version": 3
   },
   "file_extension": ".py",
   "mimetype": "text/x-python",
   "name": "python",
   "nbconvert_exporter": "python",
   "pygments_lexer": "ipython3",
   "version": "3.12.7"
  }
 },
 "nbformat": 4,
 "nbformat_minor": 5
}
