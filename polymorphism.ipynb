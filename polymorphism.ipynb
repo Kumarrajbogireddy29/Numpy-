{
 "cells": [
  {
   "cell_type": "code",
   "execution_count": null,
   "id": "92d0ee2f-908a-492e-ac2a-8b8b518cf457",
   "metadata": {},
   "outputs": [],
   "source": [
    "#polymorphism"
   ]
  },
  {
   "cell_type": "code",
   "execution_count": null,
   "id": "55596d56-1ba0-4cf0-91c6-d5ea29d0f5c7",
   "metadata": {},
   "outputs": [],
   "source": [
    "the word ploymorphism means many forms and in programming it refers to \n",
    "methods/functions/operators/ with the same name that can be executed \n",
    "on many objects or classes"
   ]
  },
  {
   "cell_type": "code",
   "execution_count": null,
   "id": "c5d582eb-544d-45a1-8993-5f615a2ccff6",
   "metadata": {},
   "outputs": [],
   "source": [
    "for fun len() it returns  the number of characters"
   ]
  },
  {
   "cell_type": "code",
   "execution_count": 1,
   "id": "87002f2e-b20d-4da8-9115-570e3d28aa49",
   "metadata": {},
   "outputs": [
    {
     "name": "stdout",
     "output_type": "stream",
     "text": [
      "10\n"
     ]
    }
   ],
   "source": [
    "x=\"helloworld\"\n",
    "print(len(x))"
   ]
  },
  {
   "cell_type": "code",
   "execution_count": null,
   "id": "ce43918e-88fe-4d6f-8462-dc3ae46c4589",
   "metadata": {},
   "outputs": [],
   "source": [
    "for tuple it returns the number of items in the tuple"
   ]
  },
  {
   "cell_type": "code",
   "execution_count": 2,
   "id": "56690a44-18c7-4a2c-bdd2-1f3020a1f6bc",
   "metadata": {},
   "outputs": [
    {
     "name": "stdout",
     "output_type": "stream",
     "text": [
      "3\n"
     ]
    }
   ],
   "source": [
    "mytuple=(\"apple\",\"banana\",\"cherry\")\n",
    "print(len(mytuple))"
   ]
  },
  {
   "cell_type": "code",
   "execution_count": null,
   "id": "79fc6236-5e2d-4fc7-b35d-149ea788a810",
   "metadata": {},
   "outputs": [],
   "source": [
    "for dictionary len() return the number of key/value pairs in the dictionary"
   ]
  },
  {
   "cell_type": "code",
   "execution_count": 6,
   "id": "64a00861-f1ca-4fbf-98a4-1074a8c50fff",
   "metadata": {},
   "outputs": [
    {
     "name": "stdout",
     "output_type": "stream",
     "text": [
      "3\n"
     ]
    }
   ],
   "source": [
    "thisdict ={\n",
    "    \"brand\":\"ford\",\n",
    "    \"model\":\"mustang\",\n",
    "    \"year\":1964,\n",
    "}\n",
    "print(len(thisdict))\n",
    "\n"
   ]
  },
  {
   "cell_type": "code",
   "execution_count": 28,
   "id": "c78289de-f0e7-43c8-b08e-7d44bad0c13c",
   "metadata": {},
   "outputs": [
    {
     "name": "stdout",
     "output_type": "stream",
     "text": [
      "food\n",
      "mustang\n"
     ]
    },
    {
     "ename": "AttributeError",
     "evalue": "'car' object has no attribute 'move'",
     "output_type": "error",
     "traceback": [
      "\u001b[1;31m---------------------------------------------------------------------------\u001b[0m",
      "\u001b[1;31mAttributeError\u001b[0m                            Traceback (most recent call last)",
      "Cell \u001b[1;32mIn[28], line 26\u001b[0m\n\u001b[0;32m     24\u001b[0m \u001b[38;5;28mprint\u001b[39m(x\u001b[38;5;241m.\u001b[39mbrand)\n\u001b[0;32m     25\u001b[0m \u001b[38;5;28mprint\u001b[39m(x\u001b[38;5;241m.\u001b[39mmodel)\n\u001b[1;32m---> 26\u001b[0m x\u001b[38;5;241m.\u001b[39mmove()\n",
      "\u001b[1;31mAttributeError\u001b[0m: 'car' object has no attribute 'move'"
     ]
    }
   ],
   "source": [
    "#example of polymorphism \n",
    "class Vechicle:\n",
    " def __init__(self,brand,model):\n",
    "    self.brand= brand\n",
    "    self.model=model\n",
    "    def move(self):\n",
    "     print(\"move!\")\n",
    "         \n",
    "class car(Vechicle):\n",
    " pass\n",
    "        \n",
    "class boat(Vechicle):\n",
    " def move(self):\n",
    "        print(\"sail\")\n",
    "            \n",
    "class plane(Vechicle):\n",
    " def move(self):\n",
    "     print(\"fly\")\n",
    "car1=car(\"food\",\"mustang\")\n",
    "boat1=boat(\"ibiza\",\"tourizing 20\")\n",
    "plane1=plane(\"boeing\",\"777\")\n",
    "\n",
    "for x in (car1,boat1,plane1):\n",
    "       print(x.brand)\n",
    "       print(x.model)\n",
    "       x.move()\n",
    "\n",
    "    \n",
    "\n"
   ]
  },
  {
   "cell_type": "code",
   "execution_count": null,
   "id": "f5c4304d-6f6f-4168-a625-03e561b959e7",
   "metadata": {},
   "outputs": [],
   "source": []
  }
 ],
 "metadata": {
  "kernelspec": {
   "display_name": "Python 3 (ipykernel)",
   "language": "python",
   "name": "python3"
  },
  "language_info": {
   "codemirror_mode": {
    "name": "ipython",
    "version": 3
   },
   "file_extension": ".py",
   "mimetype": "text/x-python",
   "name": "python",
   "nbconvert_exporter": "python",
   "pygments_lexer": "ipython3",
   "version": "3.12.7"
  }
 },
 "nbformat": 4,
 "nbformat_minor": 5
}
